{
 "cells": [
  {
   "cell_type": "markdown",
   "metadata": {},
   "source": [
    "                Guided Project: Exploring Hacker News Posts\n",
    "              \n",
    "In this project, I will look at the data set of submissions to the Hacker News website and analyse last 12 months (up to September 26, 2016) posts and their comments.\n",
    "\n",
    "Dataset includes following columns:\n",
    "\n",
    "title: title of the post\n",
    "\n",
    "url: the url of the item being linked to\n",
    "\n",
    "num_points: the number of upvotes the post received\n",
    "\n",
    "num_comments: the number of comments the post received\n",
    "\n",
    "author: the name of the account that made the post\n",
    "\n",
    "created_at: the date and time the post was made\n",
    "(the time zone is Eastern Time in the USA)\n",
    "\n",
    "In this project I will anlise posts whose titles begin with Ask HN or Show HN. \n",
    "Ask HN posts to ask the Hacker News community a specific question. \n",
    "Show HN posts to show the Hacker News community a project or present something interesting to the public.\n",
    "\n",
    "    Two tasks for this excersie are:\n",
    "\n",
    "Do Ask HN or Show HN receive more comments on average?\n",
    "Do posts created at a certain time receive more comments on average?"
   ]
  },
  {
   "cell_type": "code",
   "execution_count": 2,
   "metadata": {
    "collapsed": false
   },
   "outputs": [
    {
     "data": {
      "text/plain": [
       "[['id', 'title', 'url', 'num_points', 'num_comments', 'author', 'created_at'],\n",
       " ['12224879',\n",
       "  'Interactive Dynamic Video',\n",
       "  'http://www.interactivedynamicvideo.com/',\n",
       "  '386',\n",
       "  '52',\n",
       "  'ne0phyte',\n",
       "  '8/4/2016 11:52'],\n",
       " ['10975351',\n",
       "  'How to Use Open Source and Shut the Fuck Up at the Same Time',\n",
       "  'http://hueniverse.com/2016/01/26/how-to-use-open-source-and-shut-the-fuck-up-at-the-same-time/',\n",
       "  '39',\n",
       "  '10',\n",
       "  'josep2',\n",
       "  '1/26/2016 19:30'],\n",
       " ['11964716',\n",
       "  \"Florida DJs May Face Felony for April Fools' Water Joke\",\n",
       "  'http://www.thewire.com/entertainment/2013/04/florida-djs-april-fools-water-joke/63798/',\n",
       "  '2',\n",
       "  '1',\n",
       "  'vezycash',\n",
       "  '6/23/2016 22:20'],\n",
       " ['11919867',\n",
       "  'Technology ventures: From Idea to Enterprise',\n",
       "  'https://www.amazon.com/Technology-Ventures-Enterprise-Thomas-Byers/dp/0073523429',\n",
       "  '3',\n",
       "  '1',\n",
       "  'hswarna',\n",
       "  '6/17/2016 0:01']]"
      ]
     },
     "execution_count": 2,
     "metadata": {},
     "output_type": "execute_result"
    }
   ],
   "source": [
    "import csv\n",
    "\n",
    "#reading hacker_news.csv into a list of lists.\n",
    "file = open('hacker_news.csv')\n",
    "hn = list(csv.reader(file))\n",
    "\n",
    "#displaying first five rows from the file.\n",
    "hn[:5]\n"
   ]
  },
  {
   "cell_type": "code",
   "execution_count": 3,
   "metadata": {
    "collapsed": false
   },
   "outputs": [
    {
     "name": "stdout",
     "output_type": "stream",
     "text": [
      "['id', 'title', 'url', 'num_points', 'num_comments', 'author', 'created_at']\n",
      "[['12224879', 'Interactive Dynamic Video', 'http://www.interactivedynamicvideo.com/', '386', '52', 'ne0phyte', '8/4/2016 11:52'], ['10975351', 'How to Use Open Source and Shut the Fuck Up at the Same Time', 'http://hueniverse.com/2016/01/26/how-to-use-open-source-and-shut-the-fuck-up-at-the-same-time/', '39', '10', 'josep2', '1/26/2016 19:30'], ['11964716', \"Florida DJs May Face Felony for April Fools' Water Joke\", 'http://www.thewire.com/entertainment/2013/04/florida-djs-april-fools-water-joke/63798/', '2', '1', 'vezycash', '6/23/2016 22:20'], ['11919867', 'Technology ventures: From Idea to Enterprise', 'https://www.amazon.com/Technology-Ventures-Enterprise-Thomas-Byers/dp/0073523429', '3', '1', 'hswarna', '6/17/2016 0:01'], ['10301696', 'Note by Note: The Making of Steinway L1037 (2007)', 'http://www.nytimes.com/2007/11/07/movies/07stein.html?_r=0', '8', '2', 'walterbell', '9/30/2015 4:12']]\n"
     ]
    }
   ],
   "source": [
    "#extracting first row from the data, assigning it to a variable.\n",
    "headers = hn[0]\n",
    "#removing first row from hn.\n",
    "hn = hn[1:]\n",
    "#desplaing headers\n",
    "print(headers)\n",
    "#desplaing first five rows.\n",
    "print(hn[:5])"
   ]
  },
  {
   "cell_type": "code",
   "execution_count": 4,
   "metadata": {
    "collapsed": false
   },
   "outputs": [
    {
     "name": "stdout",
     "output_type": "stream",
     "text": [
      "1744\n",
      "1162\n",
      "17194\n"
     ]
    }
   ],
   "source": [
    "#creating empty lits for ask_posts, show_posts, and other_posts.\n",
    "\n",
    "ask_posts = []\n",
    "show_posts =[]\n",
    "other_posts = []\n",
    "\n",
    "#filtering posts from hn to the relevant lists using for loop.\n",
    "\n",
    "for post in hn:\n",
    "    title = post[1]\n",
    "    if title.lower().startswith(\"ask hn\"):\n",
    "        ask_posts.append(post)\n",
    "    elif title.lower().startswith(\"show hn\"):\n",
    "        show_posts.append(post)\n",
    "    else:\n",
    "        other_posts.append(post)\n",
    "\n",
    "#checking number of posts in each list.\n",
    "print(len(ask_posts))\n",
    "print(len(show_posts))\n",
    "print(len(other_posts))"
   ]
  },
  {
   "cell_type": "code",
   "execution_count": 5,
   "metadata": {
    "collapsed": false
   },
   "outputs": [
    {
     "name": "stdout",
     "output_type": "stream",
     "text": [
      "14.038417431192661\n"
     ]
    }
   ],
   "source": [
    "#finding the total number of comments in ask posts.\n",
    "total_ask_comments = 0\n",
    "\n",
    "for post in ask_posts:\n",
    "    total_ask_comments += int(post[4])\n",
    "    \n",
    "avg_ask_comments = total_ask_comments / len(ask_posts)\n",
    "print(avg_ask_comments)"
   ]
  },
  {
   "cell_type": "code",
   "execution_count": 6,
   "metadata": {
    "collapsed": false
   },
   "outputs": [
    {
     "name": "stdout",
     "output_type": "stream",
     "text": [
      "10.31669535283993\n"
     ]
    }
   ],
   "source": [
    "#finding the total number of comments in show posts.\n",
    "total_show_comments = 0\n",
    "for row in show_posts:\n",
    "    total_show_comments += int(row[4])\n",
    "    \n",
    "#computing the average number of comments on show posts\n",
    "avg_show_comments = total_show_comments / len(show_posts)\n",
    "print(avg_show_comments)    \n"
   ]
  },
  {
   "cell_type": "markdown",
   "metadata": {
    "collapsed": true
   },
   "source": [
    "From the calculation above I can see that ask posts on average received 14 comments while show posts only 10 in comparison."
   ]
  },
  {
   "cell_type": "code",
   "execution_count": 7,
   "metadata": {
    "collapsed": false
   },
   "outputs": [],
   "source": [
    "#importing datetime module\n",
    "import datetime as dt\n",
    "result_list = []\n",
    "\n",
    "#iterating over ask posts to find amount of ask posts created in each hour\n",
    "#and the number of comments received.\n",
    "\n",
    "for row in ask_posts:\n",
    "    created_at = row[6]\n",
    "    num_comments = row[4]\n",
    "    result_list.append([created_at, int(num_comments)])\n",
    "\n",
    "counts_by_hour = {}\n",
    "comments_by_hour = {}\n",
    "\n",
    "#changing the date format\n",
    "\n",
    "date_format = \"%m/%d/%Y %H:%M\"\n",
    "\n",
    "for row in result_list:\n",
    "    post_date = row[0]\n",
    "    comments = row[1]\n",
    "    date = dt.datetime.strptime(post_date, date_format)\n",
    "    hour = dt.datetime.strftime(date, \"%H\")\n",
    "    \n",
    "#creating frequency table    \n",
    "\n",
    "    if hour not in counts_by_hour:\n",
    "        counts_by_hour[hour] = 1\n",
    "        comments_by_hour[hour] = comments\n",
    "    else:\n",
    "        counts_by_hour[hour] += 1\n",
    "        comments_by_hour[hour] += comments"
   ]
  },
  {
   "cell_type": "code",
   "execution_count": 8,
   "metadata": {
    "collapsed": false
   },
   "outputs": [
    {
     "name": "stdout",
     "output_type": "stream",
     "text": [
      "[['14', 13.233644859813085], ['21', 16.009174311926607], ['23', 7.985294117647059], ['10', 13.440677966101696], ['13', 14.741176470588234], ['05', 10.08695652173913], ['16', 16.796296296296298], ['02', 23.810344827586206], ['11', 11.051724137931034], ['20', 21.525], ['18', 13.20183486238532], ['00', 8.127272727272727], ['22', 6.746478873239437], ['17', 11.46], ['15', 38.5948275862069], ['04', 7.170212765957447], ['09', 5.5777777777777775], ['01', 11.383333333333333], ['19', 10.8], ['07', 7.852941176470588], ['06', 9.022727272727273], ['12', 9.41095890410959], ['03', 7.796296296296297], ['08', 10.25]]\n"
     ]
    }
   ],
   "source": [
    "#calculating average number of comments ask posts received per hour created\n",
    "avg_by_hour = []\n",
    "for comment in comments_by_hour:\n",
    "    avg_by_hour.append([comment, \n",
    "                            comments_by_hour[comment] / counts_by_hour[comment]])\n",
    "print(avg_by_hour)"
   ]
  },
  {
   "cell_type": "code",
   "execution_count": 15,
   "metadata": {
    "collapsed": false
   },
   "outputs": [
    {
     "name": "stdout",
     "output_type": "stream",
     "text": [
      "[[38.5948275862069, '15'], [23.810344827586206, '02'], [21.525, '20'], [16.796296296296298, '16']] \n",
      "\n",
      "Average comments per post: \n",
      "\n",
      "15:00: 38.59 average comments per post\n",
      "02:00: 23.81 average comments per post\n",
      "20:00: 21.52 average comments per post\n",
      "16:00: 16.80 average comments per post\n",
      "21:00: 16.01 average comments per post\n"
     ]
    }
   ],
   "source": [
    "\n",
    "swap_avg_by_hour = []\n",
    "for row in avg_by_hour:\n",
    "    swap_avg_by_hour.append([row[1], row[0]])\n",
    "    \n",
    "    \n",
    "\n",
    "sorted_swap = sorted(swap_avg_by_hour, reverse = True)\n",
    "print(sorted_swap[0:4],\"\\n\")\n",
    "\n",
    "print(\"Average comments per post: \\n\")\n",
    "\n",
    "#formating results display.\n",
    "\n",
    "for avg, hr in sorted_swap[:5]:\n",
    "    print(\n",
    "        \"{}: {:.2f} average comments per post\".format(\n",
    "            dt.datetime.strptime(hr, \"%H\").strftime(\"%H:%M\"),avg\n",
    "        )\n",
    "    )\n",
    "        \n",
    "          \n",
    "    \n",
    "    "
   ]
  },
  {
   "cell_type": "markdown",
   "metadata": {
    "collapsed": true
   },
   "source": [
    "Conclusion:\n",
    "In this project, I worked with the data set from the Hacker News website forum where user posts are voted and commented. I was anaising two types of posts: ASK - where users ask Hacker News Community and SHOW posts where users submit a project to the HN or something else interesting.\n",
    "During the analisis I found that ask posts receive more comments by the average 14 rather than show posts 10 comments on an average.\n",
    "I also found that the number of comments per post can vary by the time when the post was submitted.For example at 15:00 there was an average of 38 comments per post where at 21:00 only 16 comments.\n"
   ]
  },
  {
   "cell_type": "code",
   "execution_count": null,
   "metadata": {
    "collapsed": true
   },
   "outputs": [],
   "source": []
  }
 ],
 "metadata": {
  "kernelspec": {
   "display_name": "Python 3",
   "language": "python",
   "name": "python3"
  },
  "language_info": {
   "codemirror_mode": {
    "name": "ipython",
    "version": 3
   },
   "file_extension": ".py",
   "mimetype": "text/x-python",
   "name": "python",
   "nbconvert_exporter": "python",
   "pygments_lexer": "ipython3",
   "version": "3.4.3"
  }
 },
 "nbformat": 4,
 "nbformat_minor": 2
}
